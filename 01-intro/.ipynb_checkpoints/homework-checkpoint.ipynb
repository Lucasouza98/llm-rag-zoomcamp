{
 "cells": [
  {
   "cell_type": "code",
   "execution_count": 3,
   "id": "6ba56130-e6b2-4fe5-8ad1-2634e2c7ae33",
   "metadata": {},
   "outputs": [],
   "source": [
    "import openai"
   ]
  },
  {
   "cell_type": "code",
   "execution_count": 6,
   "id": "f01b49a3-261b-4c24-a217-98c9a127da3f",
   "metadata": {},
   "outputs": [],
   "source": [
    "from openai import OpenAI"
   ]
  },
  {
   "cell_type": "code",
   "execution_count": 17,
   "id": "75564732-dddc-4dcf-9fbb-f8a63eeab3ea",
   "metadata": {},
   "outputs": [],
   "source": [
    "# caso não colocar no export ao subir o ambiente deverá colocar aqui a API_KEY\n",
    "client = OpenAI()"
   ]
  },
  {
   "cell_type": "code",
   "execution_count": 28,
   "id": "76deaa35-7db2-464b-b2b9-ce74be45c061",
   "metadata": {},
   "outputs": [],
   "source": [
    "import os"
   ]
  },
  {
   "cell_type": "code",
   "execution_count": null,
   "id": "7cad5d89-4704-4bea-9b33-bcbe9d4feb70",
   "metadata": {},
   "outputs": [],
   "source": [
    "os.environ # aqui pode procurar por OPENAI_API_KEY"
   ]
  },
  {
   "cell_type": "code",
   "execution_count": 20,
   "id": "8b3a9e87-0020-42d0-acc6-86b3b43af670",
   "metadata": {},
   "outputs": [],
   "source": [
    "response = client.chat.completions.create(\n",
    "    model='gpt-4o',\n",
    "    messages=[{\"role\": \"user\", \"content\":\"is it too late to join the course?\"}]\n",
    ")"
   ]
  },
  {
   "cell_type": "code",
   "execution_count": 27,
   "id": "007b3017-c986-415f-bc61-bab6501e7ae2",
   "metadata": {},
   "outputs": [
    {
     "data": {
      "text/plain": [
       "\"It depends on the specific course and the policies of the institution or platform offering it. Here are some steps you can take to find out if it's too late to join:\\n\\n1. **Check Registration Deadlines**: Look up the course information on the institution's website to find out the registration deadlines. Some courses have strict cut-off dates, while others may offer rolling admissions.\\n\\n2. **Contact the Instructor**: Reach out to the course instructor or the administration office. They can give you specific information on whether it's still possible to join the course and if there are any prerequisites or special approvals needed.\\n\\n3. **Late Registration Policies**: Some institutions allow late registration under certain conditions, possibly with a late fee. It's worth checking if this option is available.\\n\\n4. **Online Platforms**: If the course is offered through an online platform like Coursera, Udemy, or edX, there may be more flexibility. Many online courses are self-paced, allowing you to start at any time.\\n\\n5. **Open Seats**: If the course has a limited number of seats, you may need to check if spots are still available.\\n\\n6. **Catch-Up Plan**: Keep in mind that if you are allowed to join late, you might need to catch up on missed lectures, assignments, and readings quickly.\\n\\nIf you provide more specific information, I may be able to give you more tailored advice.\""
      ]
     },
     "execution_count": 27,
     "metadata": {},
     "output_type": "execute_result"
    }
   ],
   "source": [
    "response.choices[0].message.content"
   ]
  }
 ],
 "metadata": {
  "kernelspec": {
   "display_name": "Python 3 (ipykernel)",
   "language": "python",
   "name": "python3"
  },
  "language_info": {
   "codemirror_mode": {
    "name": "ipython",
    "version": 3
   },
   "file_extension": ".py",
   "mimetype": "text/x-python",
   "name": "python",
   "nbconvert_exporter": "python",
   "pygments_lexer": "ipython3",
   "version": "3.10.13"
  }
 },
 "nbformat": 4,
 "nbformat_minor": 5
}
